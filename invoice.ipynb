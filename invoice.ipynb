{
 "cells": [
  {
   "cell_type": "code",
   "execution_count": null,
   "metadata": {},
   "outputs": [],
   "source": [
    "! pip install mlcroissant"
   ]
  },
  {
   "cell_type": "code",
   "execution_count": null,
   "metadata": {},
   "outputs": [],
   "source": [
    "import mlcroissant as mlc\n",
    "import pandas as pd\n",
    "\n",
    "# Fetch the Croissant JSON-LD\n",
    "croissant_dataset = mlc.Dataset('https://www.kaggle.com/datasets/domixi1989/vietnamese-receipts-mc-ocr-2021/croissant/download')\n",
    "\n",
    "# Check what record sets are in the dataset\n",
    "record_sets = croissant_dataset.metadata.record_sets\n",
    "print(record_sets)\n",
    "\n",
    "# Fetch the records and put them in a DataFrame\n",
    "record_set_df = pd.DataFrame(croissant_dataset.records(record_set=record_sets[0].uuid))\n",
    "record_set_df.head()\n"
   ]
  },
  {
   "cell_type": "code",
   "execution_count": null,
   "metadata": {},
   "outputs": [
    {
     "name": "stdout",
     "output_type": "stream",
     "text": [
      "Download completed!\n"
     ]
    }
   ],
   "source": [
    "# import requests\n",
    "\n",
    "# KAGGLE_USERNAME = \"ducmanh1312\"\n",
    "# KAGGLE_KEY = \"\"\n",
    "\n",
    "# url = \"https://www.kaggle.com/api/v1/datasets/download/domixi1989/vietnamese-receipts-mc-ocr-2021\"\n",
    "# response = requests.get(url, auth=(KAGGLE_USERNAME, KAGGLE_KEY))\n",
    "\n",
    "# with open(\"dataset.zip\", \"wb\") as file:\n",
    "#     file.write(response.content)\n",
    "\n",
    "# print(\"Download completed!\")\n"
   ]
  },
  {
   "cell_type": "code",
   "execution_count": 11,
   "metadata": {},
   "outputs": [
    {
     "name": "stdout",
     "output_type": "stream",
     "text": [
      "File đã được giải nén vào thư mục: dataset\n"
     ]
    }
   ],
   "source": [
    "import zipfile\n",
    "\n",
    "# Đường dẫn file ZIP\n",
    "zip_path = \"archive.zip\"  # Thay bằng tên file ZIP của bạn\n",
    "extract_path = \"dataset\"  # Thư mục để giải nén\n",
    "\n",
    "# Giải nén\n",
    "with zipfile.ZipFile(zip_path, 'r') as zip_ref:\n",
    "    zip_ref.extractall(extract_path)\n",
    "\n",
    "print(f\"File đã được giải nén vào thư mục: {extract_path}\")"
   ]
  }
 ],
 "metadata": {
  "kernelspec": {
   "display_name": "vllm",
   "language": "python",
   "name": "python3"
  },
  "language_info": {
   "codemirror_mode": {
    "name": "ipython",
    "version": 3
   },
   "file_extension": ".py",
   "mimetype": "text/x-python",
   "name": "python",
   "nbconvert_exporter": "python",
   "pygments_lexer": "ipython3",
   "version": "3.10.13"
  }
 },
 "nbformat": 4,
 "nbformat_minor": 2
}
